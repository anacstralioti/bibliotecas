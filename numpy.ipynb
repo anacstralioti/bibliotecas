{
 "cells": [
  {
   "cell_type": "code",
   "execution_count": 1,
   "id": "cb4257b8-aab3-40ec-aa8d-c528fbc955e4",
   "metadata": {},
   "outputs": [],
   "source": [
    "vet = []"
   ]
  },
  {
   "cell_type": "code",
   "execution_count": 3,
   "id": "63997d20-9313-404d-a3f0-83f8fcbd8fd7",
   "metadata": {},
   "outputs": [],
   "source": [
    "vet = [\n",
    "    1, 2, 4, 8, 6, 9]"
   ]
  },
  {
   "cell_type": "code",
   "execution_count": 5,
   "id": "9f22c065-ba7b-4ad6-92c1-94cd2c2b78b9",
   "metadata": {},
   "outputs": [
    {
     "name": "stdout",
     "output_type": "stream",
     "text": [
      "[1, 2, 4, 8, 6, 9]\n"
     ]
    }
   ],
   "source": [
    "print(vet)"
   ]
  },
  {
   "cell_type": "code",
   "execution_count": null,
   "id": "38459422-2d41-430e-903f-6ad96dc97c7c",
   "metadata": {},
   "outputs": [],
   "source": [
    "for\n"
   ]
  },
  {
   "cell_type": "code",
   "execution_count": 9,
   "id": "a15dfa7d-a158-4e6f-9aeb-2fe7f430da28",
   "metadata": {},
   "outputs": [
    {
     "name": "stdout",
     "output_type": "stream",
     "text": [
      "valor: 1\n",
      "valor: 2\n",
      "valor: 4\n",
      "valor: 8\n",
      "valor: 6\n",
      "valor: 9\n"
     ]
    }
   ],
   "source": [
    "for i in vet:\n",
    "    print(f\"valor: {i}\")\n"
   ]
  },
  {
   "cell_type": "code",
   "execution_count": 11,
   "id": "fc395009-6f6c-4f4e-a153-74ec77066cf3",
   "metadata": {},
   "outputs": [
    {
     "name": "stdout",
     "output_type": "stream",
     "text": [
      "\f",
      "\n"
     ]
    }
   ],
   "source": [
    "clear"
   ]
  },
  {
   "cell_type": "code",
   "execution_count": 15,
   "id": "0c0b758d-c8a4-4c78-b058-6977b790159c",
   "metadata": {},
   "outputs": [],
   "source": [
    "vet1= [1,2,3,4,5,6,7,8,9,10]"
   ]
  },
  {
   "cell_type": "code",
   "execution_count": 17,
   "id": "7310780e-3716-4eb7-a1cb-9d5e29d0b945",
   "metadata": {},
   "outputs": [],
   "source": [
    "vet2= [1,2,3,4,5,6,7,8,9,10]"
   ]
  },
  {
   "cell_type": "code",
   "execution_count": 42,
   "id": "50f00a30-59d1-4d03-bda9-5baaf59d0360",
   "metadata": {},
   "outputs": [],
   "source": [
    "vetProduto = []"
   ]
  },
  {
   "cell_type": "code",
   "execution_count": 44,
   "id": "5df49a7b-b3e5-4f42-b5cb-ec128adb0f8b",
   "metadata": {},
   "outputs": [
    {
     "name": "stdout",
     "output_type": "stream",
     "text": [
      "55\n"
     ]
    }
   ],
   "source": [
    "somaVet1 = 0\n",
    "for i in vet1:\n",
    "    somaVet1 += i;\n",
    "print(somaVet1)"
   ]
  },
  {
   "cell_type": "code",
   "execution_count": 46,
   "id": "3f3e6e45-a929-4467-8ad7-11d556b3fbb3",
   "metadata": {},
   "outputs": [
    {
     "name": "stdout",
     "output_type": "stream",
     "text": [
      "55\n"
     ]
    }
   ],
   "source": [
    "somaVet2 = 0\n",
    "for i in vet2:\n",
    "    somaVet2 += i;\n",
    "print(somaVet2)"
   ]
  },
  {
   "cell_type": "code",
   "execution_count": 50,
   "id": "0e997b0b-8cc2-4d96-add2-4a2f65d70670",
   "metadata": {},
   "outputs": [
    {
     "name": "stdout",
     "output_type": "stream",
     "text": [
      "[1, 4, 9, 16, 25, 36, 49, 64, 81, 100]\n"
     ]
    }
   ],
   "source": [
    "vetProduto = [0] * len(vet1)\n",
    "for i in range (len(vet1)):\n",
    "    vetProduto[i] = vet1[i]*vet2[i]\n",
    "print(vetProduto)"
   ]
  },
  {
   "cell_type": "code",
   "execution_count": 94,
   "id": "feab7034-0352-4744-9332-ece9a3c46ab9",
   "metadata": {},
   "outputs": [
    {
     "name": "stdout",
     "output_type": "stream",
     "text": [
      "Vetor 1: 55\n",
      "Vetor 2: 55\n",
      "Vetor Produto: [1, 4, 9, 16, 25, 36, 49, 64, 81, 100]\n",
      "Média: 11.0\n"
     ]
    }
   ],
   "source": [
    "print(\"Vetor 1:\", somaVet1);\n",
    "print(\"Vetor 2:\", somaVet2);\n",
    "print(\"Vetor Produto:\", vetProduto);\n",
    "media = (somaVet1 + somaVet2)/(len(vet1));\n",
    "print(\"Média:\", media);"
   ]
  },
  {
   "cell_type": "code",
   "execution_count": 70,
   "id": "b012abf0-5488-48c0-befc-bd3c5b4cfa7e",
   "metadata": {},
   "outputs": [],
   "source": [
    "import numpy as np"
   ]
  },
  {
   "cell_type": "code",
   "execution_count": 74,
   "id": "4e8b0a15-dc6a-4523-b22f-036b708a8600",
   "metadata": {},
   "outputs": [
    {
     "name": "stdout",
     "output_type": "stream",
     "text": [
      "[ 1  2  3  4  5  6  7  8  9 10]\n"
     ]
    }
   ],
   "source": [
    "array = np.array(vet1)\n",
    "print(array)"
   ]
  },
  {
   "cell_type": "code",
   "execution_count": 84,
   "id": "65c970e7-3cd1-40f3-b303-9426aa67f6fc",
   "metadata": {},
   "outputs": [
    {
     "name": "stdout",
     "output_type": "stream",
     "text": [
      "[ 2  4  6  8 10 12 14 16 18 20]\n"
     ]
    }
   ],
   "source": [
    "resultado = array * 2\n",
    "print(resultado)"
   ]
  },
  {
   "cell_type": "code",
   "execution_count": 92,
   "id": "f2c9ee52-c5dd-44c5-8f73-bc13bf39456c",
   "metadata": {},
   "outputs": [
    {
     "name": "stdout",
     "output_type": "stream",
     "text": [
      "Soma vetor1: 55\n",
      "Soma vetor2: 55\n",
      "Produto: [  1   4   9  16  25  36  49  64  81 100]\n",
      "Média: 11.0\n"
     ]
    }
   ],
   "source": [
    "vetor1 = np.array(vet1)\n",
    "vetor2 = np.array(vet2)\n",
    "\n",
    "print(\"Soma vetor1:\", sum(vetor1))\n",
    "print(\"Soma vetor2:\", sum(vetor2))\n",
    "print(\"Produto:\", vetor1*vetor2)\n",
    "soma = vetor1 + vetor2\n",
    "print(\"Média:\", soma.mean());\n"
   ]
  },
  {
   "cell_type": "code",
   "execution_count": 9,
   "id": "c919657d-dcfd-41c0-8197-16fec5ebdf0e",
   "metadata": {},
   "outputs": [
    {
     "name": "stdout",
     "output_type": "stream",
     "text": [
      "Lista: 1.1968743801116943\n",
      "Array np: 0.015626192092895508\n",
      "Numpy é 76.59411665980073x mais rápido!\n"
     ]
    }
   ],
   "source": [
    "import numpy as np\n",
    "import time\n",
    "\n",
    "# com listas\n",
    "def benchmark_listas(n):\n",
    "    a = list(range(n))\n",
    "    b = list(range(n))\n",
    "    start = time.time()\n",
    "    c = [a[i] + b[i] for i in range(n)]\n",
    "    return time.time() - start\n",
    "\n",
    "def benchmark_np(n):\n",
    "    a = np.arange(n)\n",
    "    b = np.arange(n)\n",
    "    start = time.time()\n",
    "    c = a + b\n",
    "    return time.time() - start \n",
    "\n",
    "tamanho = 10_000_000\n",
    "tempos_lista = benchmark_listas(tamanho)\n",
    "tempo_np = benchmark_np(tamanho)\n",
    "\n",
    "print(\"Lista:\", tempo_lista)\n",
    "print(\"Array np:\", tempo_np)\n",
    "print(f\"Numpy é {tempos_lista / tempo_np}x mais rápido!\")"
   ]
  },
  {
   "cell_type": "code",
   "execution_count": 15,
   "id": "34fa9e81-923e-46af-8e54-46645892c69c",
   "metadata": {},
   "outputs": [],
   "source": [
    "import matplotlib.pyplot as plt\n",
    "\n",
    "tamanhos = [1_000, 10_000, 100_000, 1_000_000, 10_000_000]\n",
    "tempos_lista = [benchmark_listas(n) for n in tamanhos]\n",
    "tempos_np = [benchmark_np(n) for n in tamanhos]"
   ]
  },
  {
   "cell_type": "code",
   "execution_count": 29,
   "id": "c3a2ca7e-0a40-46fe-b9d5-75b56708738c",
   "metadata": {},
   "outputs": [
    {
     "data": {
      "image/png": "[encoded data removed]",
      "text/plain": [
       "<Figure size 640x480 with 1 Axes>"
      ]
     },
     "metadata": {},
     "output_type": "display_data"
    }
   ],
   "source": [
    "plt.plot(tamanhos, tempo_lista, label='Listas em Python', marker='o')\n",
    "plt.plot(tamanhos, tempos_np, label='Arrays NumPy', marker='s')\n",
    "plt.xlabel('Tamanho do vetor')\n",
    "plt.ylabel('Tempo (s)')\n",
    "plt.title('Desempenho: listas vs numpy')\n",
    "plt.legend()\n",
    "plt.grid(True)\n",
    "plt.show()"
   ]
  },
  {
   "cell_type": "code",
   "execution_count": 33,
   "id": "97893184-9741-4a89-ab59-7d53caade191",
   "metadata": {},
   "outputs": [
    {
     "name": "stdout",
     "output_type": "stream",
     "text": [
      "Maiores que 5: [ True  True  True False False False False]\n",
      "Igual a 2: [False  True False False False False False]\n",
      "Menor ou igual a 2: [ True  True False False False False False]\n"
     ]
    }
   ],
   "source": [
    "import numpy as np\n",
    "array = np.array([1, 2, 4, 5, 7, 9, 8])\n",
    "\n",
    "# Comparação9 retorna arrays booleans\n",
    "print(f\"Maiores que 5: {array < 5}\")\n",
    "print(f\"Igual a 2: {array == 2}\")\n",
    "print(f\"Menor ou igual a 2: {array <= 2}\")"
   ]
  },
  {
   "cell_type": "code",
   "execution_count": 49,
   "id": "c0b09d14-4b2d-485c-a75a-54187ce923f2",
   "metadata": {},
   "outputs": [
    {
     "name": "stdout",
     "output_type": "stream",
     "text": [
      "Maior que 3 e menor que 7: [4 5]\n",
      "Menor que 3 e maior que 7: [1 2 9 8]\n",
      "Diferentes de 7: [1 2 4 5 9 8]\n",
      "Todos os elementos são maiores que -2: True\n",
      "Algum elemento é 9: True\n"
     ]
    }
   ],
   "source": [
    "# maior que 3 e menor que 7\n",
    "filtro = (array > 3) & (array < 7)\n",
    "print(f\"Maior que 3 e menor que 7: {array[filtro]}\")\n",
    "\n",
    "# menor que 3 e maior que 7\n",
    "filtro = (array < 3) | (array > 7)\n",
    "print(f\"Menor que 3 e maior que 7: {array[filtro]}\")\n",
    "\n",
    "# negação para 7\n",
    "filtro = ~(array == 7)\n",
    "print(f\"Diferentes de 7: {array[filtro]}\")\n",
    "\n",
    "# Verificar se todos os valores são maiores que x\n",
    "print(f\"Todos os elementos são maiores que -2: {np.all(array > -2)}\")\n",
    "\n",
    "# Verificar se temos o número x\n",
    "print(f\"Algum elemento é 9: {np.any(array == 9)}\")\n"
   ]
  },
  {
   "cell_type": "code",
   "execution_count": 53,
   "id": "1938fd89-1f3a-45ea-b60c-8a376a110486",
   "metadata": {},
   "outputs": [
    {
     "name": "stdout",
     "output_type": "stream",
     "text": [
      "8\n"
     ]
    }
   ],
   "source": [
    "print(array[-1]) # pega o último elemento"
   ]
  },
  {
   "cell_type": "code",
   "execution_count": 57,
   "id": "bbebd0fe-2684-4c9f-93c9-ba1429e72c12",
   "metadata": {},
   "outputs": [
    {
     "name": "stdout",
     "output_type": "stream",
     "text": [
      "[5 7 9]\n"
     ]
    }
   ],
   "source": [
    "print(array[3:6]) # retorna elementos das posições 3 a 6"
   ]
  },
  {
   "cell_type": "code",
   "execution_count": 61,
   "id": "c5a04100-a286-42ca-95c4-28a55a468b31",
   "metadata": {},
   "outputs": [
    {
     "name": "stdout",
     "output_type": "stream",
     "text": [
      "[1 2 0 0 0 0 0]\n"
     ]
    }
   ],
   "source": [
    "array[array > 3] = 0\n",
    "print(array)"
   ]
  },
  {
   "cell_type": "code",
   "execution_count": 56,
   "id": "5e545967-d3f9-4e96-8f5f-1d10aaa6d644",
   "metadata": {},
   "outputs": [
    {
     "name": "stdout",
     "output_type": "stream",
     "text": [
      "[5 5 5 5 5 5 5 5 5 5]\n",
      "[0 1 2 3 4 5 6 7 8 9]\n",
      "[[1 2 3]\n",
      " [4 5 6]\n",
      " [7 8 9]]\n",
      "[ True False  True False  True]\n"
     ]
    }
   ],
   "source": [
    "## criação de arrays\n",
    "# crie um array de 10 elementos, todos com valor 5\n",
    "import numpy as np\n",
    "array = np.array([5, 5, 5, 5, 5, 5, 5, 5, 5, 5])\n",
    "print(array)\n",
    "\n",
    "# crie um array de 10 elementos, com valores de 0 a 9\n",
    "array2 = np.array([0, 1, 2, 3, 4, 5, 6, 7, 8, 9])\n",
    "print(array2)\n",
    "\n",
    "# crie uma matriz 3x3 com valores aleatórios entre 0 e 1\n",
    "array3 = np.arange(1, 10).reshape(3, 3)\n",
    "print(array3)\n",
    "\n",
    "array4 = np.array([True, False, True, False, True])\n",
    "print(array4)"
   ]
  },
  {
   "cell_type": "code",
   "execution_count": 60,
   "id": "9078363d-a549-4c84-8ae8-d84a6f013491",
   "metadata": {},
   "outputs": [
    {
     "name": "stdout",
     "output_type": "stream",
     "text": [
      "[ 2  4  6  8 10 12]\n",
      "[ 2  4  6  8 10 24]\n",
      "[1.  1.  1.  1.  1.  0.5]\n",
      "Sines: [ 0.84147098  0.90929743  0.14112001 -0.7568025  -0.95892427 -0.53657292]\n",
      "Cosines: [ 0.54030231 -0.41614684 -0.9899925  -0.65364362  0.28366219  0.84385396]\n"
     ]
    }
   ],
   "source": [
    "## operações básicas\n",
    "# Some dois arrays da mesma forma\n",
    "array5 = np.array([1, 2, 3, 4, 5, 6])\n",
    "array6 = np.array([1, 2, 3, 4, 5, 6])\n",
    "array7 = np.array([1, 2, 3, 4, 5, 12])\n",
    "soma = array5 + array6\n",
    "print(soma)\n",
    "\n",
    "# Multiple um array por um escalar\n",
    "array8 = np.array([4, 3, 2, 1])\n",
    "resultado = array7 * 2\n",
    "print(resultado)\n",
    "\n",
    "# Divida um array por outro, tratando os casos de divisão por zero\n",
    "divisao = np.divide(array5, array7, where=array7 != 0)\n",
    "print(divisao)\n",
    "\n",
    "# Calcule o seno e o cosseno de todos os elementos de um array\n",
    "sines = np.sin(array7)\n",
    "cosines = np.cos(array7)\n",
    "\n",
    "print(\"Sines:\", sines)\n",
    "print(\"Cosines:\", cosines)"
   ]
  },
  {
   "cell_type": "code",
   "execution_count": 66,
   "id": "5ae717da-2ba4-4f4a-be0f-6689cd1849dc",
   "metadata": {},
   "outputs": [
    {
     "name": "stdout",
     "output_type": "stream",
     "text": [
      "O elemento na segunda linha e terceira coluna é: 6\n"
     ]
    }
   ],
   "source": [
    "## indexação e slicing \n",
    "# acessar o elemento na segunda linha e terceira coluna de uma matriz\n",
    "matriz = np.array([[1, 2, 3],\n",
    "                   [4, 5, 6],\n",
    "                   [7, 8, 9]])\n",
    "\n",
    "elemento = matriz[1, 2]\n",
    "\n",
    "print(f\"O elemento na segunda linha e terceira coluna é: {elemento}\")\n",
    "\n",
    "# extrair a última linha de uma matriz\n",
    "\n",
    "# inverter a ordem dos elemntos de um vetor\n",
    "\n",
    "# criar um nova matriz a partir de uma fatia de outra matriz\n"
   ]
  },
  {
   "cell_type": "code",
   "execution_count": null,
   "id": "e869c2cc-c5e4-4678-9707-4e3b8c54c34f",
   "metadata": {},
   "outputs": [],
   "source": []
  }
 ],
 "metadata": {
  "kernelspec": {
   "display_name": "Python 3 (ipykernel)",
   "language": "python",
   "name": "python3"
  },
  "language_info": {
   "codemirror_mode": {
    "name": "ipython",
    "version": 3
   },
   "file_extension": ".py",
   "mimetype": "text/x-python",
   "name": "python",
   "nbconvert_exporter": "python",
   "pygments_lexer": "ipython3",
   "version": "3.12.4"
  }
 },
 "nbformat": 4,
 "nbformat_minor": 5
}
